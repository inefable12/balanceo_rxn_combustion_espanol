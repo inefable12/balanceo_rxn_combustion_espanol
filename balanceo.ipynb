{
 "cells": [
  {
   "cell_type": "markdown",
   "metadata": {},
   "source": [
    "# Balanceo de ecuaciones químicas:\n",
    "MSc. Jesus Alvarado-Huayhuaz\n",
    "#### __Rxn de combustión de hidrocarburos__"
   ]
  },
  {
   "cell_type": "markdown",
   "metadata": {},
   "source": [
    "##### __Combustión de Alcanos__\n",
    "a $C_nH_{2n+2}$ + b $O_2$ = c $CO_2$ + d $H_2O$\n",
    "\n",
    "##### __Combustión de Alquenos__\n",
    "a $C_nH_{2n}$ + b $O_2$ = c $CO_2$ + d $H_2O$\n",
    "\n",
    "##### __Combustión de Alquinos__\n",
    "a $C_nH_{2n-2}$ + b $O_2$ = c $CO_2$ + d $H_2O$"
   ]
  },
  {
   "cell_type": "code",
   "execution_count": 1,
   "metadata": {},
   "outputs": [
    {
     "name": "stdout",
     "output_type": "stream",
     "text": [
      "REACCIÓN DE COMBUSTIÓN DE\n",
      "--------------------------------\n",
      "    1. Alcanos\n",
      "    2. Alquenos\n",
      "    3. Alquinos\n",
      "--------------------------------\n",
      "Indica el tipo de hidrocarburo: 1, 2 o 3: 1\n",
      " \n",
      "[Combustión de Alcanos]\n",
      "a CₙH₂ₙ₊₂ + b O₂ = c CO₂ + d H₂O\n"
     ]
    }
   ],
   "source": [
    "print(\"REACCIÓN DE COMBUSTIÓN DE\")\n",
    "print('--------------------------------')\n",
    "print('    1. Alcanos\\n    2. Alquenos\\n    3. Alquinos')\n",
    "print('--------------------------------')\n",
    "\n",
    "rxn = int(input('Indica el tipo de hidrocarburo: 1, 2 o 3: '))\n",
    "while (rxn != 1) and (rxn != 2) and (rxn != 3):\n",
    "    print(\"¡Ha escrito un número inválido! Inténtelo de nuevo\")\n",
    "    rxn = int(input('Indica el tipo de hidrocarburo: 1, 2 o 3: '))\n",
    "\n",
    "#**********************************************************************************\n",
    "#función para usar subindice  \n",
    "def get_sub(x): \n",
    "    normal = \"ABCDEFGHIJKLMNOPQRSTUVWXYZabcdefghijklmnopqrstuvwxyz0123456789+-=()\"\n",
    "    sub_s = \"ₐ₈CDₑբGₕᵢⱼₖₗₘₙₒₚQᵣₛₜᵤᵥwₓᵧZₐ♭꜀ᑯₑբ₉ₕᵢⱼₖₗₘₙₒₚ૧ᵣₛₜᵤᵥwₓᵧ₂₀₁₂₃₄₅₆₇₈₉₊₋₌₍₎\"\n",
    "    res = x.maketrans(''.join(normal), ''.join(sub_s)) \n",
    "    return x.translate(res) \n",
    "#**********************************************************************************\n",
    "    \n",
    "if rxn == 1:\n",
    "    print(' ')\n",
    "    print('[Combustión de Alcanos]')\n",
    "    print('a C{}H{} + b O{} = c CO{} + d H{}O'.format(get_sub('n'),get_sub('2n+2'),get_sub('2'),get_sub('2'),get_sub('2')))\n",
    "elif rxn == 2:\n",
    "    print(' ')\n",
    "    print('[Combustión de Alquenos]')\n",
    "    print('a C{}H{} + b O{} = c CO{} + d H{}O'.format(get_sub('n'),get_sub('2n'),get_sub('2'),get_sub('2'),get_sub('2')))\n",
    "elif rxn == 3:\n",
    "    print(' ')\n",
    "    print('[Combustión de Alquinos]')\n",
    "    print('a C{}H{} + b O{} = c CO{} + d H{}O'.format(get_sub('n'),get_sub('2n-2'),get_sub('2'),get_sub('2'),get_sub('2')))"
   ]
  },
  {
   "cell_type": "code",
   "execution_count": 2,
   "metadata": {},
   "outputs": [
    {
     "name": "stdout",
     "output_type": "stream",
     "text": [
      "Indica el número de carbonos en el alcano: 3\n",
      " \n",
      "---ECUACIÓN BALANCEADA---\n",
      "C₃H₈ + 5.0 O₂ = 3 CO₂ + 4 H₂O\n"
     ]
    }
   ],
   "source": [
    "if rxn == 1: \n",
    "    carbonos = int(input('Indica el número de carbonos en el alcano: '))\n",
    "    a = 1\n",
    "    b = (3*carbonos+1)/2\n",
    "    c = carbonos\n",
    "    d = carbonos+1\n",
    "    print(' ')\n",
    "    print('---ECUACIÓN BALANCEADA---')\n",
    "    print('C{}H{} + {} O{} = {} CO{} + {} H{}O'.\n",
    "          format(get_sub(str(carbonos)),get_sub(str(2*carbonos+2)),str(b),\n",
    "                 get_sub('2'),str(c),get_sub('2'),str(d),get_sub('2')))\n",
    "    \n",
    "if rxn == 2: \n",
    "    carbonos = int(input('Indica el número de carbonos en el alqueno: '))\n",
    "    a = 1\n",
    "    b = (3*carbonos)/2\n",
    "    c = carbonos\n",
    "    d = carbonos\n",
    "    print(' ')\n",
    "    print('---ECUACIÓN BALANCEADA---')\n",
    "    print('C{}H{} + {} O{} = {} CO{} + {} H{}O'.\n",
    "          format(get_sub(str(carbonos)),get_sub(str(2*carbonos)),str(b),\n",
    "                 get_sub('2'),str(c),get_sub('2'),str(d),get_sub('2')))\n",
    "    \n",
    "if rxn == 3: \n",
    "    carbonos = int(input('Indica el número de carbonos en el alquino: '))\n",
    "    a = 1\n",
    "    b = (3*carbonos-1)/2\n",
    "    c = carbonos\n",
    "    d = carbonos-1\n",
    "    print(' ')\n",
    "    print('---ECUACIÓN BALANCEADA---')\n",
    "    print('C{}H{} + {} O{} = {} CO{} + {} H{}O'.\n",
    "          format(get_sub(str(carbonos)),get_sub(str(2*carbonos-2)),str(b),\n",
    "                 get_sub('2'),str(c),get_sub('2'),str(d),get_sub('2')))"
   ]
  },
  {
   "cell_type": "code",
   "execution_count": null,
   "metadata": {},
   "outputs": [],
   "source": []
  }
 ],
 "metadata": {
  "kernelspec": {
   "display_name": "Python 3",
   "language": "python",
   "name": "python3"
  },
  "language_info": {
   "codemirror_mode": {
    "name": "ipython",
    "version": 3
   },
   "file_extension": ".py",
   "mimetype": "text/x-python",
   "name": "python",
   "nbconvert_exporter": "python",
   "pygments_lexer": "ipython3",
   "version": "3.8.3"
  }
 },
 "nbformat": 4,
 "nbformat_minor": 4
}
